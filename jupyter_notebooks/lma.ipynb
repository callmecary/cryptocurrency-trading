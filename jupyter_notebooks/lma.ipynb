{
 "cells": [
  {
   "cell_type": "code",
   "execution_count": 17,
   "metadata": {
    "scrolled": true
   },
   "outputs": [],
   "source": [
    "import json, hmac, hashlib, time, requests, base64\n",
    "from requests.auth import AuthBase\n",
    "\n",
    "# Create custom authentication for Exchange\n",
    "class GdaxAuth(AuthBase):\n",
    "    def __init__(self, api_key, secret_key, passphrase):\n",
    "        self.api_key = api_key\n",
    "        self.secret_key = secret_key\n",
    "        self.passphrase = passphrase\n",
    "\n",
    "    def __call__(self, request):\n",
    "        timestamp = str(time.time())\n",
    "        message = timestamp + request.method + request.path_url + (request.body or '')\n",
    "        message = message.encode('ascii')\n",
    "        hmac_key = base64.b64decode(self.secret_key)\n",
    "        signature = hmac.new(hmac_key, message, hashlib.sha256)\n",
    "        signature_b64 = base64.b64encode(signature.digest()).decode('utf-8')\n",
    "\n",
    "        request.headers.update({\n",
    "            'CB-ACCESS-SIGN': signature_b64,\n",
    "            'CB-ACCESS-TIMESTAMP': timestamp,\n",
    "            'CB-ACCESS-KEY': self.api_key,\n",
    "            'CB-ACCESS-PASSPHRASE': self.passphrase,\n",
    "            'Content-Type': 'application/json'\n",
    "        })\n",
    "        return request\n",
    "    \n",
    "\n"
   ]
  },
  {
   "cell_type": "code",
   "execution_count": 24,
   "metadata": {},
   "outputs": [
    {
     "name": "stdout",
     "output_type": "stream",
     "text": [
      "{'open': '10990.23000000', 'high': '1000000.00000000', 'low': '1.00000000', 'volume': '9.99102425', 'last': '1000000.00000000', 'volume_30day': '61.36461233'}\n"
     ]
    }
   ],
   "source": [
    "CLIENT_SECRETS = 'client_secrets.json'\n",
    "client_secrets = json.load(open(CLIENT_SECRETS))\n",
    "api_url = client_secrets[\"sandbox\"][\"api_url\"]\n",
    "API_KEY = client_secrets[\"sandbox\"][\"api_key\"]\n",
    "API_SECRET = client_secrets[\"sandbox\"][\"api_secret\"]\n",
    "API_PASS = client_secrets[\"sandbox\"][\"api_pass\"]\n",
    "auth = GdaxAuth(API_KEY, API_SECRET, API_PASS)\n",
    "\n",
    "# Get accounts\n",
    "r = requests.get(api_url + '/products/BTC-USD/stats', auth=auth)\n",
    "\n",
    "#r = requests.post(api_url + 'orders', json=order, auth=auth)\n",
    "print (r.json())"
   ]
  }
 ],
 "metadata": {
  "kernelspec": {
   "display_name": "Python 3",
   "language": "python",
   "name": "python3"
  },
  "language_info": {
   "codemirror_mode": {
    "name": "ipython",
    "version": 3
   },
   "file_extension": ".py",
   "mimetype": "text/x-python",
   "name": "python",
   "nbconvert_exporter": "python",
   "pygments_lexer": "ipython3",
   "version": "3.6.2"
  }
 },
 "nbformat": 4,
 "nbformat_minor": 2
}
